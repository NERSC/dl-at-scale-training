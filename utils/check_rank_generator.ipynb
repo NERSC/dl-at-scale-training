{
 "cells": [
  {
   "cell_type": "code",
   "execution_count": 1,
   "id": "e9b95e95-3be0-49ea-ba2b-557c12dfdd70",
   "metadata": {
    "tags": []
   },
   "outputs": [],
   "source": [
    "from rank_generator import RankGenerator"
   ]
  },
  {
   "cell_type": "code",
   "execution_count": 2,
   "id": "22e66d4c-5902-42ff-96dc-1194ce64dc55",
   "metadata": {
    "tags": []
   },
   "outputs": [
    {
     "data": {
      "text/plain": [
       "[[0, 4, 8, 12, 16, 20, 24, 28],\n",
       " [1, 5, 9, 13, 17, 21, 25, 29],\n",
       " [2, 6, 10, 14, 18, 22, 26, 30],\n",
       " [3, 7, 11, 15, 19, 23, 27, 31]]"
      ]
     },
     "execution_count": 2,
     "metadata": {},
     "output_type": "execute_result"
    }
   ],
   "source": [
    "rg = RankGenerator(\n",
    "        tp=2,\n",
    "        dp=8,\n",
    "        pp=1,\n",
    "        cp=2,\n",
    "        order='tp-cp-pp-dp',\n",
    "    )\n",
    "rg.get_ranks('dp')"
   ]
  },
  {
   "cell_type": "code",
   "execution_count": null,
   "id": "99f3fb0f-4705-4931-8250-9a12523633a0",
   "metadata": {},
   "outputs": [],
   "source": []
  }
 ],
 "metadata": {
  "kernelspec": {
   "display_name": "pytorch-2.3.1",
   "language": "python",
   "name": "pytorch-2.3.1"
  },
  "language_info": {
   "codemirror_mode": {
    "name": "ipython",
    "version": 3
   },
   "file_extension": ".py",
   "mimetype": "text/x-python",
   "name": "python",
   "nbconvert_exporter": "python",
   "pygments_lexer": "ipython3",
   "version": "3.11.9"
  }
 },
 "nbformat": 4,
 "nbformat_minor": 5
}
